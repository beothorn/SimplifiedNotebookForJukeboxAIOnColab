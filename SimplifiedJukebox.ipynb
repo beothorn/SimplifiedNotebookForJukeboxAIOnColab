{
  "nbformat": 4,
  "nbformat_minor": 0,
  "metadata": {
    "colab": {
      "name": "SimplifiedJukeboxNotShared",
      "provenance": [],
      "collapsed_sections": [],
      "machine_shape": "hm",
      "include_colab_link": true
    },
    "kernelspec": {
      "name": "python3",
      "display_name": "Python 3"
    },
    "accelerator": "GPU"
  },
  "cells": [
    {
      "cell_type": "markdown",
      "metadata": {
        "id": "view-in-github",
        "colab_type": "text"
      },
      "source": [
        "<a href=\"https://colab.research.google.com/github/beothorn/SimplifiedNotebookForJukeboxAIOnColab/blob/main/SimplifiedJukeboxNotShared.ipynb\" target=\"_parent\"><img src=\"https://colab.research.google.com/assets/colab-badge.svg\" alt=\"Open In Colab\"/></a>"
      ]
    },
    {
      "cell_type": "markdown",
      "metadata": {
        "id": "uq8uLwZCn0BV"
      },
      "source": [
        "# Simplified notebook for running the Jukebox AI on google colab\n",
        "\n",
        "## IMPORTANT NOTE ON SYSTEM REQUIREMENTS:\n",
        "\n",
        "Make sure it has a P100 GPU (optionally run !nvidia-smi to confirm). Go to Edit>Notebook Settings to set this.\n",
        "\n",
        "CoLab may first assign you a lower memory machine if you are using a hosted runtime.  If so, the first time you try to load the 5B model, it will run out of memory, and then you'll be prompted to restart with more memory (then return to the top of this CoLab).  If you continue to have memory issues after this (or run into issues on your own home setup), switch to the 1B model.\n",
        "\n",
        "If you are using a local GPU, we recommend V100 or P100 with 16GB GPU memory for best performance. For GPU’s with less memory, we recommend using the 1B model and a smaller batch size throughout.  \n",
        "\n"
      ]
    },
    {
      "cell_type": "markdown",
      "metadata": {
        "id": "2Er027iCgwi9"
      },
      "source": [
        "## Check GPU\n",
        "Should be something like GPU 0: Tesla P100-PCIE-16GB"
      ]
    },
    {
      "cell_type": "code",
      "metadata": {
        "id": "8qEqdj8u0gdN",
        "colab": {
          "base_uri": "https://localhost:8080/",
          "height": 34
        },
        "outputId": "5829246b-21ae-4412-c989-86a0e053f9f1"
      },
      "source": [
        "!nvidia-smi -L"
      ],
      "execution_count": null,
      "outputs": [
        {
          "output_type": "stream",
          "text": [
            "GPU 0: Tesla P100-PCIE-16GB (UUID: GPU-35c4e5b9-3d09-919b-c867-fc7c6db67569)\n"
          ],
          "name": "stdout"
        }
      ]
    },
    {
      "cell_type": "code",
      "metadata": {
        "id": "sAdFGF-bqVMY"
      },
      "source": [
        "!pip install git+https://github.com/openai/jukebox.git"
      ],
      "execution_count": null,
      "outputs": []
    },
    {
      "cell_type": "markdown",
      "metadata": {
        "id": "x5WeN3v5g9Jl"
      },
      "source": [
        "# Configure paths and presets\n",
        "\n",
        "First upload a wav file with the music that will be used by the AI.\n",
        "Also create a new folder for the samples. \n",
        "\n",
        "Configure this cell accordingly."
      ]
    },
    {
      "cell_type": "code",
      "metadata": {
        "id": "tS59IEw5f-53"
      },
      "source": [
        "sample_folder = 'samplesfaroeste'\n",
        "source_wav = 'faroesteCaboclo.wav'\n",
        "current_artist_id = 'johnny_mathis' #https://github.com/openai/jukebox/tree/master/jukebox/data/ids\n",
        "output_length = 50\n",
        "current_genre = \"country\" #https://github.com/openai/jukebox/tree/master/jukebox/data/ids\n",
        "current_lyrics = \"\"\"\n",
        "Não tinha medo o tal João de Santo Cristo\n",
        "Era o que todos diziam quando ele se perdeu\n",
        "Deixou pra trás todo o marasmo da fazenda\n",
        "Só pra sentir no seu sangue o ódio que Jesus lhe deu\n",
        "Quando criança só pensava em ser bandido\n",
        "Ainda mais quando com um tiro de soldado o pai morreu\n",
        "Era o terror da sertania onde morava\n",
        "E na escola até o professor com ele aprendeu\n",
        "Ia pra igreja só pra roubar o dinheiro\n",
        "Que as velhinhas colocavam na caixinha do altar\n",
        "Sentia mesmo que era mesmo diferente\n",
        "Sentia que aquilo ali não era o seu lugar\n",
        "Ele queria sair para ver o mar\n",
        "E as coisas que ele via na televisão\n",
        "Juntou dinheiro para poder viajar\n",
        "De escolha própria, escolheu a solidão\n",
        "Comia todas as menininhas da cidade\n",
        "De tanto brincar de médico, aos doze era professor\n",
        "Aos quinze, foi mandado pro o reformatório\n",
        "Onde aumentou seu ódio diante de tanto terror\n",
        "Não entendia como a vida funcionava\n",
        "Discriminação por causa da sua classe e sua cor\n",
        "Ficou cansado de tentar achar resposta\n",
        "E comprou uma passagem, foi direto a Salvador\n",
        "E lá chegando foi tomar um cafezinho\n",
        "E encontrou um boiadeiro com quem foi falar\n",
        "E o boiadeiro tinha uma passagem e ia perder a viagem\n",
        "Mas João foi lhe salvar\n",
        "Dizia ele \"estou indo pra Brasília\n",
        "Neste país lugar melhor não há\n",
        "'Tô precisando visitar a minha filha\n",
        "Eu fico aqui e você vai no meu lugar\"\n",
        "E João aceitou sua proposta\n",
        "E num ônibus entrou no Planalto Central\n",
        "Ele ficou bestificado com a cidade\n",
        "Saindo da rodoviária, viu as luzes de Natal\n",
        "Meu Deus, mas que cidade linda\n",
        "No Ano Novo eu começo a trabalhar\n",
        "Cortar madeira, aprendiz de carpinteiro\n",
        "Ganhava cem mil por mês em Taguatinga\n",
        "Na sexta-feira ia pra zona da cidade\n",
        "Gastar todo o seu dinheiro de rapaz trabalhador\n",
        "E conhecia muita gente interessante\n",
        "Até um neto bastardo do seu bisavô\n",
        "Um peruano que vivia na Bolívia\n",
        "E muitas coisas trazia de lá\n",
        "Seu nome era Pablo e ele dizia\n",
        "Que um negócio ele ia começar\n",
        "E o Santo Cristo até a morte trabalhava\n",
        "Mas o dinheiro não dava pra ele se alimentar\n",
        "E ouvia às sete horas o noticiário\n",
        "Que sempre dizia que o seu ministro ia ajudar\n",
        "Mas ele não queria mais conversa\n",
        "E decidiu que, como Pablo, ele ia se virar\n",
        "Elaborou mais uma vez seu plano santo\n",
        "E sem ser crucificado, a plantação foi começar\n",
        "Logo logo os maluco da cidade souberam da novidade\n",
        "\"Tem bagulho bom ai!\"\n",
        "E João de Santo Cristo ficou rico\n",
        "E acabou com todos os traficantes dali\n",
        "Fez amigos, frequentava a Asa Norte\n",
        "E ia pra festa de rock, pra se libertar\n",
        "Mas de repente Sob uma má influência dos boyzinho da cidade\n",
        "Começou a roubar\n",
        "Já no primeiro roubo ele dançou\n",
        "E pro inferno ele foi pela primeira vez\n",
        "Violência e estupro do seu corpo\n",
        "Vocês vão ver, eu vou pegar vocês\n",
        "Agora o Santo Cristo era bandido\n",
        "Destemido e temido no Distrito Federal\n",
        "Não tinha nenhum medo de polícia\n",
        "Capitão ou traficante, playboy ou general\n",
        "Foi quando conheceu uma menina\n",
        "E de todos os seus pecados ele se arrependeu\n",
        "Maria Lúcia era uma menina linda\n",
        "E o coração dele pra ela o Santo Cristo prometeu\n",
        "Ele dizia que queria se casar\n",
        "E carpinteiro ele voltou a ser\n",
        "Maria Lúcia pra sempre vou te amar\n",
        "E um filho com você eu quero ter\n",
        "O tempo passa e um dia vem na porta\n",
        "Um senhor de alta classe com dinheiro na mão\n",
        "E ele faz uma proposta indecorosa\n",
        "E diz que espera uma resposta, uma resposta do João\n",
        "Não boto bomba em banca de jornal\n",
        "Nem em colégio de criança isso eu não faço não\n",
        "E não protejo general de dez estrelas\n",
        "Que fica atrás da mesa com o cu na mão\n",
        "E é melhor senhor sair da minha casa\n",
        "Nunca brinque com um Peixes de ascendente Escorpião\"\n",
        "Mas antes de sair, com ódio no olhar, o velho disse\n",
        "\"Você perdeu sua vida, meu irmão\"\n",
        "\"Você perdeu a sua vida meu irmão\n",
        "Você perdeu a sua vida meu irmão\n",
        "Essas palavras vão entrar no coração\n",
        "Eu vou sofrer as consequências como um cão\"\n",
        "Não é que o Santo Cristo estava certo\n",
        "Seu futuro era incerto e ele não foi trabalhar\n",
        "Se embebedou e no meio da bebedeira\n",
        "Descobriu que tinha outro trabalhando em seu lugar\n",
        "Falou com Pablo que queria um parceiro\n",
        "E também tinha dinheiro e queria se armar\n",
        "Pablo trazia o contrabando da Bolívia\n",
        "E Santo Cristo revendia em Planaltina\n",
        "Mas acontece que um tal de Jeremias\n",
        "Traficante de renome, apareceu por lá\n",
        "Ficou sabendo dos planos de Santo Cristo\n",
        "E decidiu que, com João ele ia acabar\n",
        "Mas Pablo trouxe uma Winchester-22\n",
        "E Santo Cristo já sabia atirar\n",
        "E decidiu usar a arma só depois\n",
        "Que Jeremias começasse a brigar\n",
        "Jeremias, maconheiro sem-vergonha\n",
        "Organizou a Rockonha e fez todo mundo dançar\n",
        "Desvirginava mocinhas inocentes\n",
        "Se dizia que era crente mas não sabia rezar\n",
        "E Santo Cristo há muito não ia pra casa\n",
        "E a saudade começou a apertar\n",
        "Eu vou me embora, eu vou ver Maria Lúcia\n",
        "Já 'tá em tempo de a gente se casar\n",
        "Chegando em casa então ele chorou\n",
        "E pro inferno ele foi pela segunda vez\n",
        "Com Maria Lúcia Jeremias se casou\n",
        "E um filho nela ele fez\n",
        "Santo Cristo era só ódio por dentro\n",
        "E então o Jeremias pra um duelo ele chamou\n",
        "Amanhã às duas horas na Ceilândia\n",
        "Em frente ao Lote 14, é pra lá que eu vou\n",
        "E você pode escolher as suas armas\n",
        "Que eu acabo mesmo com você, seu porco traidor\n",
        "E mato também Maria Lúcia\n",
        "Aquela menina bosal pra quem jurei o meu amor\n",
        "E o Santo Cristo não sabia o que fazer\n",
        "Quando viu o repórter da televisão\n",
        "Que deu notícia do duelo na TV\n",
        "Dizendo a hora e o local e a razão\n",
        "No sábado então, às duas horas\n",
        "Todo o povo sem demora foi lá só para assistir\n",
        "Um homem que atirava pelas costas\n",
        "E acertou o Santo Cristo, começou a sorrir\n",
        "Sentindo o sangue na garganta\n",
        "João olhou pras bandeirinhas e pro povo a aplaudir\n",
        "E olhou pro sorveteiro e pras câmeras e\n",
        "A gente da TV que filmava tudo ali\n",
        "E se lembrou de quando era uma criança\n",
        "E de tudo o que vivera até ali\n",
        "E decidiu entrar de vez naquela dança\n",
        "Se a via-crucis virou circo, estou aqui\n",
        "E nisso o sol cegou seus olhos\n",
        "E então Maria Lúcia ele reconheceu\n",
        "Ela trazia a Winchester-22\n",
        "A arma que seu primo Pablo lhe deu\n",
        "Jeremias, eu sou homem. coisa que você não é\n",
        "E não atiro pelas costas não\n",
        "Olha pra cá filha da puta, sem-vergonha\n",
        "Dá uma olhada no meu sangue e vem sentir o teu perdão\n",
        "E Santo Cristo com a Winchester-22\n",
        "Deu cinco tiros no bandido traidor\n",
        "Maria Lúcia se arrependeu depois\n",
        "E morreu junto com João, seu protetor\n",
        "E o povo declarava que João de Santo Cristo\n",
        "Era santo porque sabia morrer\n",
        "E a alta burguesia da cidade\n",
        "Não acreditou na história que eles viram na TV\n",
        "E João não conseguiu o que queria\n",
        "Quando veio pra Brasília, com o diabo ter\n",
        "Ele queria era falar pro presidente\n",
        "Pra ajudar toda essa gente que só faz\n",
        "Sofrer\n",
        "\"\"\""
      ],
      "execution_count": 1,
      "outputs": []
    },
    {
      "cell_type": "code",
      "metadata": {
        "id": "exl_tzpxUIwt"
      },
      "source": [
        "from google.colab import drive\n",
        "drive.mount('/content/gdrive')"
      ],
      "execution_count": null,
      "outputs": []
    },
    {
      "cell_type": "markdown",
      "metadata": {
        "id": "NGSD4xkIgXEc"
      },
      "source": [
        "You probably don't need to change anything here, just run it and check the samples, then run the second part"
      ]
    },
    {
      "cell_type": "code",
      "metadata": {
        "id": "h9Py0MMxQLif"
      },
      "source": [
        "import jukebox\n",
        "import torch as t\n",
        "import librosa\n",
        "import os\n",
        "from IPython.display import Audio\n",
        "from jukebox.make_models import make_vqvae, make_prior, MODELS, make_model\n",
        "from jukebox.hparams import Hyperparams, setup_hparams\n",
        "from jukebox.sample import sample_single_window, _sample, \\\n",
        "                           sample_partial_window, upsample, \\\n",
        "                           load_prompts\n",
        "from jukebox.utils.dist_utils import setup_dist_from_mpi\n",
        "from jukebox.utils.torch_utils import empty_cache\n",
        "rank, local_rank, device = setup_dist_from_mpi()\n",
        "\n",
        "model = \"5b_lyrics\" # or \"1b_lyrics\"\n",
        "hps = Hyperparams()\n",
        "hps.sr = 44100\n",
        "hps.n_samples = 3 if model=='5b_lyrics' else 8\n",
        "# Specifies the directory to save the sample in.\n",
        "# We set this to the Google Drive mount point.\n",
        "hps.name = '/content/gdrive/My Drive/' + sample_folder\n",
        "chunk_size = 16 if model==\"5b_lyrics\" else 32\n",
        "max_batch_size = 3 if model==\"5b_lyrics\" else 16\n",
        "hps.levels = 3\n",
        "hps.hop_fraction = [.5,.5,.125]\n",
        "\n",
        "vqvae, *priors = MODELS[model]\n",
        "vqvae = make_vqvae(setup_hparams(vqvae, dict(sample_length = 1048576)), device)\n",
        "top_prior = make_prior(setup_hparams(priors[-1], dict()), vqvae, device)\n",
        "\n",
        "# Prime song creation using an arbitrary audio sample.\n",
        "mode = 'primed'\n",
        "codes_file=None\n",
        "# Specify an audio file here.\n",
        "audio_file = '/content/gdrive/My Drive/' + source_wav\n",
        "# Specify how many seconds of audio to prime on.\n",
        "prompt_length_in_seconds=16\n",
        "\n",
        "sample_hps = Hyperparams(dict(mode=mode, codes_file=codes_file, audio_file=audio_file, prompt_length_in_seconds=prompt_length_in_seconds))\n",
        "\n",
        "sample_length_in_seconds = output_length          # Full length of musical sample to generate - we find songs in the 1 to 4 minute\n",
        "                                       # range work well, with generation time proportional to sample length.  \n",
        "                                       # This total length affects how quickly the model \n",
        "                                       # progresses through lyrics (model also generates differently\n",
        "                                       # depending on if it thinks it's in the beginning, middle, or end of sample)\n",
        "hps.sample_length = (int(sample_length_in_seconds*hps.sr)//top_prior.raw_to_tokens)*top_prior.raw_to_tokens\n",
        "assert hps.sample_length >= top_prior.n_ctx*top_prior.raw_to_tokens, f'Please choose a larger sampling rate'\n",
        "\n",
        "# Note: Metas can contain different prompts per sample.\n",
        "# By default, all samples use the same prompt.\n",
        "metas = [dict(artist = current_artist_id,\n",
        "            genre = current_genre,\n",
        "            total_length = hps.sample_length,\n",
        "            offset = 0,\n",
        "            lyrics = current_lyrics,\n",
        "            ),\n",
        "          ] * hps.n_samples\n",
        "labels = [None, None, top_prior.labeller.get_batch_labels(metas, 'cuda')]\n",
        "\n",
        "sampling_temperature = .99 #closer to 1, the less random\n",
        "\n",
        "lower_batch_size = 16\n",
        "max_batch_size = 3 if model == \"5b_lyrics\" else 16\n",
        "lower_level_chunk_size = 32\n",
        "chunk_size = 16 if model == \"5b_lyrics\" else 32\n",
        "sampling_kwargs = [dict(temp=.99, fp16=True, max_batch_size=lower_batch_size,\n",
        "                        chunk_size=lower_level_chunk_size),\n",
        "                    dict(temp=0.99, fp16=True, max_batch_size=lower_batch_size,\n",
        "                         chunk_size=lower_level_chunk_size),\n",
        "                    dict(temp=sampling_temperature, fp16=True, \n",
        "                         max_batch_size=max_batch_size, chunk_size=chunk_size)]\n",
        "\n",
        "if sample_hps.mode == 'ancestral':\n",
        "  zs = [t.zeros(hps.n_samples,0,dtype=t.long, device='cuda') for _ in range(len(priors))]\n",
        "  zs = _sample(zs, labels, sampling_kwargs, [None, None, top_prior], [2], hps)\n",
        "elif sample_hps.mode == 'upsample':\n",
        "  assert sample_hps.codes_file is not None\n",
        "  # Load codes.\n",
        "  data = t.load(sample_hps.codes_file, map_location='cpu')\n",
        "  zs = [z.cuda() for z in data['zs']]\n",
        "  assert zs[-1].shape[0] == hps.n_samples, f\"Expected bs = {hps.n_samples}, got {zs[-1].shape[0]}\"\n",
        "  del data\n",
        "  print('Falling through to the upsample step later in the notebook.')\n",
        "elif sample_hps.mode == 'primed':\n",
        "  assert sample_hps.audio_file is not None\n",
        "  audio_files = sample_hps.audio_file.split(',')\n",
        "  duration = (int(sample_hps.prompt_length_in_seconds*hps.sr)//top_prior.raw_to_tokens)*top_prior.raw_to_tokens\n",
        "  x = load_prompts(audio_files, duration, hps)\n",
        "  zs = top_prior.encode(x, start_level=0, end_level=len(priors), bs_chunks=x.shape[0])\n",
        "  zs = _sample(zs, labels, sampling_kwargs, [None, None, top_prior], [2], hps)\n",
        "else:\n",
        "  raise ValueError(f'Unknown sample mode {sample_hps.mode}.')"
      ],
      "execution_count": null,
      "outputs": []
    },
    {
      "cell_type": "markdown",
      "metadata": {
        "id": "qIf-CLG8gkr4"
      },
      "source": [
        "Set this False if you are on a local machine that has enough memory (this allows you to do the lyrics alignment visualization during the upsampling stage). For a hosted runtime, we'll need to go ahead and delete the top_prior if you are using the 5b_lyrics model."
      ]
    },
    {
      "cell_type": "code",
      "metadata": {
        "id": "W5VLX0zRapIm"
      },
      "source": [
        "\n",
        "if True:\n",
        "  del top_prior\n",
        "  empty_cache()\n",
        "  top_prior=None\n",
        "upsamplers = [make_prior(setup_hparams(prior, dict()), vqvae, 'cpu') for prior in priors[:-1]]\n",
        "labels[:2] = [prior.labeller.get_batch_labels(metas, 'cuda') for prior in upsamplers]\n",
        "\n",
        "zs = upsample(zs, labels, sampling_kwargs, [*upsamplers, top_prior], hps)"
      ],
      "execution_count": null,
      "outputs": []
    }
  ]
}